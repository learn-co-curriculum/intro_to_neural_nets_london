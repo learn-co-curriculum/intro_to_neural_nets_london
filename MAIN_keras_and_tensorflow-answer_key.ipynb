{
 "cells": [
  {
   "cell_type": "markdown",
   "metadata": {},
   "source": [
    "# Neural Networks with keras and tensorflow\n",
    "\n",
    "N.B. You will need to pip install keras and tensorflow!"
   ]
  },
  {
   "cell_type": "code",
   "execution_count": null,
   "metadata": {},
   "outputs": [],
   "source": []
  },
  {
   "cell_type": "markdown",
   "metadata": {},
   "source": [
    "## Diabetes Solution"
   ]
  },
  {
   "cell_type": "code",
   "execution_count": 1,
   "metadata": {},
   "outputs": [],
   "source": [
    "import pandas as pd\n",
    "import numpy as np\n",
    "import matplotlib.pyplot as plt"
   ]
  },
  {
   "cell_type": "code",
   "execution_count": 5,
   "metadata": {},
   "outputs": [],
   "source": [
    "from keras.models import Sequential\n",
    "from keras.layers import Dense\n",
    "import warnings\n",
    "warnings.filterwarnings('ignore')"
   ]
  },
  {
   "cell_type": "code",
   "execution_count": 6,
   "metadata": {},
   "outputs": [],
   "source": [
    "from sklearn.preprocessing import StandardScaler\n",
    "from sklearn.model_selection import train_test_split\n",
    "\n",
    "ss = StandardScaler()\n"
   ]
  },
  {
   "cell_type": "code",
   "execution_count": 7,
   "metadata": {},
   "outputs": [],
   "source": [
    "import pandas as pd\n",
    "df = pd.read_csv('https://query.data.world/s/hbvdf6y2dqlpzjsc5ho5yboxy3tz7l')"
   ]
  },
  {
   "cell_type": "code",
   "execution_count": 8,
   "metadata": {},
   "outputs": [
    {
     "name": "stdout",
     "output_type": "stream",
     "text": [
      "<class 'pandas.core.frame.DataFrame'>\n",
      "RangeIndex: 768 entries, 0 to 767\n",
      "Data columns (total 9 columns):\n",
      " #   Column                    Non-Null Count  Dtype  \n",
      "---  ------                    --------------  -----  \n",
      " 0   Pregnancies               768 non-null    int64  \n",
      " 1   Glucose                   768 non-null    int64  \n",
      " 2   BloodPressure             768 non-null    int64  \n",
      " 3   SkinThickness             768 non-null    int64  \n",
      " 4   Insulin                   768 non-null    int64  \n",
      " 5   BMI                       768 non-null    float64\n",
      " 6   DiabetesPedigreeFunction  768 non-null    float64\n",
      " 7   Age                       768 non-null    int64  \n",
      " 8   Outcome                   768 non-null    int64  \n",
      "dtypes: float64(2), int64(7)\n",
      "memory usage: 54.1 KB\n"
     ]
    }
   ],
   "source": [
    "df.info()"
   ]
  },
  {
   "cell_type": "code",
   "execution_count": 9,
   "metadata": {},
   "outputs": [
    {
     "data": {
      "text/plain": [
       "(768, 9)"
      ]
     },
     "execution_count": 9,
     "metadata": {},
     "output_type": "execute_result"
    }
   ],
   "source": [
    "df.shape"
   ]
  },
  {
   "cell_type": "code",
   "execution_count": 10,
   "metadata": {},
   "outputs": [],
   "source": [
    "df_num= df.to_numpy()"
   ]
  },
  {
   "cell_type": "code",
   "execution_count": 11,
   "metadata": {},
   "outputs": [],
   "source": [
    "X_data = df_num[:,0:-1]\n",
    "Y_data= df_num[:,-1]"
   ]
  },
  {
   "cell_type": "code",
   "execution_count": 12,
   "metadata": {},
   "outputs": [],
   "source": [
    "X_train, X_test, y_train, y_test = train_test_split(X_data, Y_data,test_size=.2)"
   ]
  },
  {
   "cell_type": "code",
   "execution_count": 13,
   "metadata": {},
   "outputs": [
    {
     "data": {
      "text/plain": [
       "StandardScaler(copy=True, with_mean=True, with_std=True)"
      ]
     },
     "execution_count": 13,
     "metadata": {},
     "output_type": "execute_result"
    }
   ],
   "source": [
    "ss.fit(X_train)"
   ]
  },
  {
   "cell_type": "code",
   "execution_count": 14,
   "metadata": {},
   "outputs": [],
   "source": [
    "X_train = ss.transform(X_train)\n",
    "X_test = ss.transform(X_test)"
   ]
  },
  {
   "cell_type": "code",
   "execution_count": 34,
   "metadata": {},
   "outputs": [
    {
     "name": "stdout",
     "output_type": "stream",
     "text": [
      "Model: \"sequential_6\"\n",
      "_________________________________________________________________\n",
      "Layer (type)                 Output Shape              Param #   \n",
      "=================================================================\n",
      "dense_16 (Dense)             (None, 12)                108       \n",
      "_________________________________________________________________\n",
      "dense_17 (Dense)             (None, 8)                 104       \n",
      "_________________________________________________________________\n",
      "dense_18 (Dense)             (None, 1)                 9         \n",
      "=================================================================\n",
      "Total params: 221\n",
      "Trainable params: 221\n",
      "Non-trainable params: 0\n",
      "_________________________________________________________________\n"
     ]
    }
   ],
   "source": [
    "model = Sequential()\n",
    "model.add(Dense(12, input_dim=8, activation='relu'))\n",
    "model.add(Dense(8, activation='relu'))\n",
    "model.add(Dense(1, activation='sigmoid'))\n",
    "\n",
    "#activation='sigmoid'\n",
    "model.compile(optimizer='rmsprop',\n",
    "              loss= 'binary_crossentropy',\n",
    "              metrics=['accuracy'])\n",
    "\n",
    "model.summary()"
   ]
  },
  {
   "cell_type": "code",
   "execution_count": 35,
   "metadata": {
    "scrolled": true
   },
   "outputs": [
    {
     "name": "stdout",
     "output_type": "stream",
     "text": [
      "Train on 614 samples, validate on 154 samples\n",
      "Epoch 1/50\n",
      "614/614 [==============================] - 0s 293us/step - loss: 0.6630 - accuracy: 0.6059 - val_loss: 0.6118 - val_accuracy: 0.6818\n",
      "Epoch 2/50\n",
      "614/614 [==============================] - 0s 84us/step - loss: 0.6064 - accuracy: 0.6857 - val_loss: 0.5566 - val_accuracy: 0.7468\n",
      "Epoch 3/50\n",
      "614/614 [==============================] - 0s 77us/step - loss: 0.5677 - accuracy: 0.7150 - val_loss: 0.5176 - val_accuracy: 0.7597\n",
      "Epoch 4/50\n",
      "614/614 [==============================] - 0s 74us/step - loss: 0.5400 - accuracy: 0.7215 - val_loss: 0.4920 - val_accuracy: 0.7662\n",
      "Epoch 5/50\n",
      "614/614 [==============================] - 0s 73us/step - loss: 0.5230 - accuracy: 0.7378 - val_loss: 0.4743 - val_accuracy: 0.7662\n",
      "Epoch 6/50\n",
      "614/614 [==============================] - 0s 73us/step - loss: 0.5109 - accuracy: 0.7459 - val_loss: 0.4672 - val_accuracy: 0.7727\n",
      "Epoch 7/50\n",
      "614/614 [==============================] - 0s 72us/step - loss: 0.5008 - accuracy: 0.7524 - val_loss: 0.4549 - val_accuracy: 0.7727\n",
      "Epoch 8/50\n",
      "614/614 [==============================] - 0s 74us/step - loss: 0.4946 - accuracy: 0.7590 - val_loss: 0.4509 - val_accuracy: 0.7727\n",
      "Epoch 9/50\n",
      "614/614 [==============================] - 0s 73us/step - loss: 0.4895 - accuracy: 0.7590 - val_loss: 0.4508 - val_accuracy: 0.7792\n",
      "Epoch 10/50\n",
      "614/614 [==============================] - 0s 78us/step - loss: 0.4845 - accuracy: 0.7638 - val_loss: 0.4457 - val_accuracy: 0.7792\n",
      "Epoch 11/50\n",
      "614/614 [==============================] - 0s 74us/step - loss: 0.4806 - accuracy: 0.7638 - val_loss: 0.4450 - val_accuracy: 0.7727\n",
      "Epoch 12/50\n",
      "614/614 [==============================] - 0s 74us/step - loss: 0.4771 - accuracy: 0.7622 - val_loss: 0.4456 - val_accuracy: 0.7792\n",
      "Epoch 13/50\n",
      "614/614 [==============================] - 0s 73us/step - loss: 0.4745 - accuracy: 0.7671 - val_loss: 0.4466 - val_accuracy: 0.7792\n",
      "Epoch 14/50\n",
      "614/614 [==============================] - 0s 75us/step - loss: 0.4706 - accuracy: 0.7655 - val_loss: 0.4439 - val_accuracy: 0.7857\n",
      "Epoch 15/50\n",
      "614/614 [==============================] - 0s 72us/step - loss: 0.4676 - accuracy: 0.7687 - val_loss: 0.4426 - val_accuracy: 0.7792\n",
      "Epoch 16/50\n",
      "614/614 [==============================] - 0s 73us/step - loss: 0.4654 - accuracy: 0.7736 - val_loss: 0.4434 - val_accuracy: 0.7922\n",
      "Epoch 17/50\n",
      "614/614 [==============================] - 0s 75us/step - loss: 0.4620 - accuracy: 0.7736 - val_loss: 0.4427 - val_accuracy: 0.7922\n",
      "Epoch 18/50\n",
      "614/614 [==============================] - 0s 70us/step - loss: 0.4599 - accuracy: 0.7671 - val_loss: 0.4449 - val_accuracy: 0.7922\n",
      "Epoch 19/50\n",
      "614/614 [==============================] - 0s 72us/step - loss: 0.4587 - accuracy: 0.7801 - val_loss: 0.4491 - val_accuracy: 0.7922\n",
      "Epoch 20/50\n",
      "614/614 [==============================] - 0s 73us/step - loss: 0.4548 - accuracy: 0.7736 - val_loss: 0.4513 - val_accuracy: 0.7857\n",
      "Epoch 21/50\n",
      "614/614 [==============================] - 0s 75us/step - loss: 0.4530 - accuracy: 0.7801 - val_loss: 0.4506 - val_accuracy: 0.7792\n",
      "Epoch 22/50\n",
      "614/614 [==============================] - 0s 73us/step - loss: 0.4510 - accuracy: 0.7736 - val_loss: 0.4541 - val_accuracy: 0.7792\n",
      "Epoch 23/50\n",
      "614/614 [==============================] - 0s 77us/step - loss: 0.4480 - accuracy: 0.7866 - val_loss: 0.4552 - val_accuracy: 0.7792\n",
      "Epoch 24/50\n",
      "614/614 [==============================] - 0s 76us/step - loss: 0.4456 - accuracy: 0.7883 - val_loss: 0.4569 - val_accuracy: 0.7792\n",
      "Epoch 25/50\n",
      "614/614 [==============================] - 0s 77us/step - loss: 0.4437 - accuracy: 0.7899 - val_loss: 0.4557 - val_accuracy: 0.7792\n",
      "Epoch 26/50\n",
      "614/614 [==============================] - 0s 74us/step - loss: 0.4416 - accuracy: 0.7932 - val_loss: 0.4544 - val_accuracy: 0.7662\n",
      "Epoch 27/50\n",
      "614/614 [==============================] - 0s 78us/step - loss: 0.4395 - accuracy: 0.7915 - val_loss: 0.4565 - val_accuracy: 0.7597\n",
      "Epoch 28/50\n",
      "614/614 [==============================] - 0s 78us/step - loss: 0.4379 - accuracy: 0.7964 - val_loss: 0.4599 - val_accuracy: 0.7922\n",
      "Epoch 29/50\n",
      "614/614 [==============================] - 0s 75us/step - loss: 0.4360 - accuracy: 0.7948 - val_loss: 0.4581 - val_accuracy: 0.7857\n",
      "Epoch 30/50\n",
      "614/614 [==============================] - 0s 74us/step - loss: 0.4344 - accuracy: 0.7980 - val_loss: 0.4630 - val_accuracy: 0.7792\n",
      "Epoch 31/50\n",
      "614/614 [==============================] - 0s 74us/step - loss: 0.4326 - accuracy: 0.8029 - val_loss: 0.4603 - val_accuracy: 0.7857\n",
      "Epoch 32/50\n",
      "614/614 [==============================] - 0s 75us/step - loss: 0.4317 - accuracy: 0.7980 - val_loss: 0.4632 - val_accuracy: 0.7922\n",
      "Epoch 33/50\n",
      "614/614 [==============================] - 0s 77us/step - loss: 0.4300 - accuracy: 0.7997 - val_loss: 0.4626 - val_accuracy: 0.7857\n",
      "Epoch 34/50\n",
      "614/614 [==============================] - 0s 76us/step - loss: 0.4289 - accuracy: 0.8029 - val_loss: 0.4626 - val_accuracy: 0.7857\n",
      "Epoch 35/50\n",
      "614/614 [==============================] - 0s 79us/step - loss: 0.4269 - accuracy: 0.7980 - val_loss: 0.4615 - val_accuracy: 0.7857\n",
      "Epoch 36/50\n",
      "614/614 [==============================] - 0s 78us/step - loss: 0.4265 - accuracy: 0.8013 - val_loss: 0.4648 - val_accuracy: 0.7857\n",
      "Epoch 37/50\n",
      "614/614 [==============================] - 0s 79us/step - loss: 0.4237 - accuracy: 0.7997 - val_loss: 0.4633 - val_accuracy: 0.7857\n",
      "Epoch 38/50\n",
      "614/614 [==============================] - 0s 84us/step - loss: 0.4232 - accuracy: 0.8062 - val_loss: 0.4658 - val_accuracy: 0.7857\n",
      "Epoch 39/50\n",
      "614/614 [==============================] - 0s 70us/step - loss: 0.4215 - accuracy: 0.8013 - val_loss: 0.4672 - val_accuracy: 0.7857\n",
      "Epoch 40/50\n",
      "614/614 [==============================] - 0s 80us/step - loss: 0.4200 - accuracy: 0.8013 - val_loss: 0.4713 - val_accuracy: 0.7922\n",
      "Epoch 41/50\n",
      "614/614 [==============================] - 0s 77us/step - loss: 0.4184 - accuracy: 0.8078 - val_loss: 0.4701 - val_accuracy: 0.7922\n",
      "Epoch 42/50\n",
      "614/614 [==============================] - 0s 80us/step - loss: 0.4180 - accuracy: 0.8013 - val_loss: 0.4719 - val_accuracy: 0.7987\n",
      "Epoch 43/50\n",
      "614/614 [==============================] - 0s 72us/step - loss: 0.4157 - accuracy: 0.8046 - val_loss: 0.4713 - val_accuracy: 0.7922\n",
      "Epoch 44/50\n",
      "614/614 [==============================] - 0s 70us/step - loss: 0.4155 - accuracy: 0.8062 - val_loss: 0.4749 - val_accuracy: 0.7987\n",
      "Epoch 45/50\n",
      "614/614 [==============================] - 0s 75us/step - loss: 0.4142 - accuracy: 0.8094 - val_loss: 0.4756 - val_accuracy: 0.7987\n",
      "Epoch 46/50\n",
      "614/614 [==============================] - 0s 78us/step - loss: 0.4124 - accuracy: 0.8062 - val_loss: 0.4781 - val_accuracy: 0.7857\n",
      "Epoch 47/50\n",
      "614/614 [==============================] - 0s 76us/step - loss: 0.4117 - accuracy: 0.8062 - val_loss: 0.4785 - val_accuracy: 0.7987\n",
      "Epoch 48/50\n",
      "614/614 [==============================] - 0s 75us/step - loss: 0.4105 - accuracy: 0.8094 - val_loss: 0.4799 - val_accuracy: 0.7857\n",
      "Epoch 49/50\n",
      "614/614 [==============================] - 0s 75us/step - loss: 0.4081 - accuracy: 0.8160 - val_loss: 0.4843 - val_accuracy: 0.7857\n",
      "Epoch 50/50\n",
      "614/614 [==============================] - 0s 75us/step - loss: 0.4099 - accuracy: 0.8029 - val_loss: 0.4823 - val_accuracy: 0.7922\n"
     ]
    }
   ],
   "source": [
    "training_history = model.fit(X_train, y_train, epochs=50, \n",
    "                             verbose=1, batch_size=10 , \n",
    "                             validation_data=(X_test, y_test))"
   ]
  },
  {
   "cell_type": "code",
   "execution_count": 36,
   "metadata": {},
   "outputs": [
    {
     "data": {
      "text/plain": [
       "<matplotlib.legend.Legend at 0x1a3b7905f8>"
      ]
     },
     "execution_count": 36,
     "metadata": {},
     "output_type": "execute_result"
    },
    {
     "data": {
      "image/png": "[encoded data removed]",
      "text/plain": [
       "<Figure size 432x288 with 1 Axes>"
      ]
     },
     "metadata": {
      "needs_background": "light"
     },
     "output_type": "display_data"
    }
   ],
   "source": [
    "train_loss = training_history.history['loss']\n",
    "test_loss = training_history.history['val_loss']\n",
    "plt.plot(train_loss, label='Training Loss')\n",
    "plt.plot(test_loss, label='Validation Loss')\n",
    "plt.legend()"
   ]
  },
  {
   "cell_type": "code",
   "execution_count": 37,
   "metadata": {},
   "outputs": [
    {
     "data": {
      "text/plain": [
       "<matplotlib.legend.Legend at 0x1a3b82e860>"
      ]
     },
     "execution_count": 37,
     "metadata": {},
     "output_type": "execute_result"
    },
    {
     "data": {
      "image/png": "[encoded data removed]",
      "text/plain": [
       "<Figure size 432x288 with 1 Axes>"
      ]
     },
     "metadata": {
      "needs_background": "light"
     },
     "output_type": "display_data"
    }
   ],
   "source": [
    "train_loss = training_history.history['accuracy']\n",
    "test_loss = training_history.history['val_accuracy']\n",
    "plt.plot(train_loss, label='Training Acccuracy')\n",
    "plt.plot(test_loss, label='Validation Accuracy')\n",
    "plt.legend()"
   ]
  },
  {
   "cell_type": "code",
   "execution_count": 38,
   "metadata": {},
   "outputs": [],
   "source": [
    "from sklearn.datasets import load_breast_cancer\n",
    "from matplotlib import pyplot as plt\n",
    "import numpy as np\n",
    "from sklearn.model_selection import train_test_split\n",
    "from sklearn import metrics\n",
    "from sklearn.preprocessing import StandardScaler"
   ]
  },
  {
   "cell_type": "markdown",
   "metadata": {},
   "source": [
    "For this lesson we'll use sklearn's built-in breast cancer dataset. The next cell loads the data and prints the data description."
   ]
  },
  {
   "cell_type": "code",
   "execution_count": 39,
   "metadata": {},
   "outputs": [
    {
     "name": "stdout",
     "output_type": "stream",
     "text": [
      ".. _breast_cancer_dataset:\n",
      "\n",
      "Breast cancer wisconsin (diagnostic) dataset\n",
      "--------------------------------------------\n",
      "\n",
      "**Data Set Characteristics:**\n",
      "\n",
      "    :Number of Instances: 569\n",
      "\n",
      "    :Number of Attributes: 30 numeric, predictive attributes and the class\n",
      "\n",
      "    :Attribute Information:\n",
      "        - radius (mean of distances from center to points on the perimeter)\n",
      "        - texture (standard deviation of gray-scale values)\n",
      "        - perimeter\n",
      "        - area\n",
      "        - smoothness (local variation in radius lengths)\n",
      "        - compactness (perimeter^2 / area - 1.0)\n",
      "        - concavity (severity of concave portions of the contour)\n",
      "        - concave points (number of concave portions of the contour)\n",
      "        - symmetry \n",
      "        - fractal dimension (\"coastline approximation\" - 1)\n",
      "\n",
      "        The mean, standard error, and \"worst\" or largest (mean of the three\n",
      "        largest values) of these features were computed for each image,\n",
      "        resulting in 30 features.  For instance, field 3 is Mean Radius, field\n",
      "        13 is Radius SE, field 23 is Worst Radius.\n",
      "\n",
      "        - class:\n",
      "                - WDBC-Malignant\n",
      "                - WDBC-Benign\n",
      "\n",
      "    :Summary Statistics:\n",
      "\n",
      "    ===================================== ====== ======\n",
      "                                           Min    Max\n",
      "    ===================================== ====== ======\n",
      "    radius (mean):                        6.981  28.11\n",
      "    texture (mean):                       9.71   39.28\n",
      "    perimeter (mean):                     43.79  188.5\n",
      "    area (mean):                          143.5  2501.0\n",
      "    smoothness (mean):                    0.053  0.163\n",
      "    compactness (mean):                   0.019  0.345\n",
      "    concavity (mean):                     0.0    0.427\n",
      "    concave points (mean):                0.0    0.201\n",
      "    symmetry (mean):                      0.106  0.304\n",
      "    fractal dimension (mean):             0.05   0.097\n",
      "    radius (standard error):              0.112  2.873\n",
      "    texture (standard error):             0.36   4.885\n",
      "    perimeter (standard error):           0.757  21.98\n",
      "    area (standard error):                6.802  542.2\n",
      "    smoothness (standard error):          0.002  0.031\n",
      "    compactness (standard error):         0.002  0.135\n",
      "    concavity (standard error):           0.0    0.396\n",
      "    concave points (standard error):      0.0    0.053\n",
      "    symmetry (standard error):            0.008  0.079\n",
      "    fractal dimension (standard error):   0.001  0.03\n",
      "    radius (worst):                       7.93   36.04\n",
      "    texture (worst):                      12.02  49.54\n",
      "    perimeter (worst):                    50.41  251.2\n",
      "    area (worst):                         185.2  4254.0\n",
      "    smoothness (worst):                   0.071  0.223\n",
      "    compactness (worst):                  0.027  1.058\n",
      "    concavity (worst):                    0.0    1.252\n",
      "    concave points (worst):               0.0    0.291\n",
      "    symmetry (worst):                     0.156  0.664\n",
      "    fractal dimension (worst):            0.055  0.208\n",
      "    ===================================== ====== ======\n",
      "\n",
      "    :Missing Attribute Values: None\n",
      "\n",
      "    :Class Distribution: 212 - Malignant, 357 - Benign\n",
      "\n",
      "    :Creator:  Dr. William H. Wolberg, W. Nick Street, Olvi L. Mangasarian\n",
      "\n",
      "    :Donor: Nick Street\n",
      "\n",
      "    :Date: November, 1995\n",
      "\n",
      "This is a copy of UCI ML Breast Cancer Wisconsin (Diagnostic) datasets.\n",
      "https://goo.gl/U2Uwz2\n",
      "\n",
      "Features are computed from a digitized image of a fine needle\n",
      "aspirate (FNA) of a breast mass.  They describe\n",
      "characteristics of the cell nuclei present in the image.\n",
      "\n",
      "Separating plane described above was obtained using\n",
      "Multisurface Method-Tree (MSM-T) [K. P. Bennett, \"Decision Tree\n",
      "Construction Via Linear Programming.\" Proceedings of the 4th\n",
      "Midwest Artificial Intelligence and Cognitive Science Society,\n",
      "pp. 97-101, 1992], a classification method which uses linear\n",
      "programming to construct a decision tree.  Relevant features\n",
      "were selected using an exhaustive search in the space of 1-4\n",
      "features and 1-3 separating planes.\n",
      "\n",
      "The actual linear program used to obtain the separating plane\n",
      "in the 3-dimensional space is that described in:\n",
      "[K. P. Bennett and O. L. Mangasarian: \"Robust Linear\n",
      "Programming Discrimination of Two Linearly Inseparable Sets\",\n",
      "Optimization Methods and Software 1, 1992, 23-34].\n",
      "\n",
      "This database is also available through the UW CS ftp server:\n",
      "\n",
      "ftp ftp.cs.wisc.edu\n",
      "cd math-prog/cpo-dataset/machine-learn/WDBC/\n",
      "\n",
      ".. topic:: References\n",
      "\n",
      "   - W.N. Street, W.H. Wolberg and O.L. Mangasarian. Nuclear feature extraction \n",
      "     for breast tumor diagnosis. IS&T/SPIE 1993 International Symposium on \n",
      "     Electronic Imaging: Science and Technology, volume 1905, pages 861-870,\n",
      "     San Jose, CA, 1993.\n",
      "   - O.L. Mangasarian, W.N. Street and W.H. Wolberg. Breast cancer diagnosis and \n",
      "     prognosis via linear programming. Operations Research, 43(4), pages 570-577, \n",
      "     July-August 1995.\n",
      "   - W.H. Wolberg, W.N. Street, and O.L. Mangasarian. Machine learning techniques\n",
      "     to diagnose breast cancer from fine-needle aspirates. Cancer Letters 77 (1994) \n",
      "     163-171.\n"
     ]
    }
   ],
   "source": [
    "data = load_breast_cancer()\n",
    "print(data.DESCR)"
   ]
  },
  {
   "cell_type": "code",
   "execution_count": 40,
   "metadata": {},
   "outputs": [
    {
     "data": {
      "text/plain": [
       "StandardScaler(copy=True, with_mean=True, with_std=True)"
      ]
     },
     "execution_count": 40,
     "metadata": {},
     "output_type": "execute_result"
    }
   ],
   "source": [
    "X_train, X_test, y_train, y_test = train_test_split(data.data, data.target)\n",
    "\n",
    "ss = StandardScaler()\n",
    "ss.fit(X_train)"
   ]
  },
  {
   "cell_type": "code",
   "execution_count": 41,
   "metadata": {},
   "outputs": [],
   "source": [
    "X_train_scaled = ss.transform(X_train)\n",
    "X_test_scaled = ss.transform(X_test)"
   ]
  },
  {
   "cell_type": "code",
   "execution_count": 42,
   "metadata": {},
   "outputs": [
    {
     "data": {
      "text/plain": [
       "(426, 30)"
      ]
     },
     "execution_count": 42,
     "metadata": {},
     "output_type": "execute_result"
    }
   ],
   "source": [
    "X_train_scaled.shape"
   ]
  },
  {
   "cell_type": "markdown",
   "metadata": {},
   "source": [
    "## Constructing a Neural Network in Keras"
   ]
  },
  {
   "cell_type": "code",
   "execution_count": 43,
   "metadata": {},
   "outputs": [],
   "source": [
    "# Importing model and layer types\n",
    "\n",
    "from keras.models import Sequential\n",
    "from keras.layers import Dense\n",
    "\n",
    "# Importing our optimizer\n",
    "\n",
    "from keras.optimizers import Adam"
   ]
  },
  {
   "cell_type": "code",
   "execution_count": 44,
   "metadata": {},
   "outputs": [],
   "source": [
    "model = Sequential()\n",
    "\n",
    "inputs = X_train.shape[1]\n",
    "hiddens = inputs\n",
    "\n",
    "model.add(Dense(hiddens, input_dim=inputs, activation='relu'))\n",
    "model.add(Dense(1))"
   ]
  },
  {
   "cell_type": "code",
   "execution_count": 51,
   "metadata": {},
   "outputs": [],
   "source": [
    "adam = Adam()\n",
    "model.compile(optimizer=adam, loss='mean_squared_error', metrics=['accuracy'])"
   ]
  },
  {
   "cell_type": "code",
   "execution_count": 58,
   "metadata": {},
   "outputs": [
    {
     "name": "stdout",
     "output_type": "stream",
     "text": [
      "Train on 426 samples, validate on 143 samples\n",
      "Epoch 1/50\n",
      "426/426 [==============================] - 0s 34us/step - loss: 0.7245 - accuracy: 0.5305 - val_loss: 0.8539 - val_accuracy: 0.6434\n",
      "Epoch 2/50\n",
      "426/426 [==============================] - 0s 29us/step - loss: 0.6129 - accuracy: 0.5469 - val_loss: 1.0390 - val_accuracy: 0.4266\n",
      "Epoch 3/50\n",
      "426/426 [==============================] - 0s 47us/step - loss: 1.1836 - accuracy: 0.4296 - val_loss: 5.1136 - val_accuracy: 0.1189\n",
      "Epoch 4/50\n",
      "426/426 [==============================] - 0s 39us/step - loss: 1.7256 - accuracy: 0.2981 - val_loss: 1.2094 - val_accuracy: 0.3776\n",
      "Epoch 5/50\n",
      "426/426 [==============================] - 0s 34us/step - loss: 1.6972 - accuracy: 0.3380 - val_loss: 1.0152 - val_accuracy: 0.6084\n",
      "Epoch 6/50\n",
      "426/426 [==============================] - 0s 37us/step - loss: 0.7769 - accuracy: 0.5516 - val_loss: 1.3665 - val_accuracy: 0.5385\n",
      "Epoch 7/50\n",
      "426/426 [==============================] - 0s 38us/step - loss: 0.6478 - accuracy: 0.5657 - val_loss: 1.0801 - val_accuracy: 0.4685\n",
      "Epoch 8/50\n",
      "426/426 [==============================] - 0s 39us/step - loss: 0.6844 - accuracy: 0.5516 - val_loss: 1.2997 - val_accuracy: 0.6084\n",
      "Epoch 9/50\n",
      "426/426 [==============================] - 0s 32us/step - loss: 1.0282 - accuracy: 0.4343 - val_loss: 2.9745 - val_accuracy: 0.2937\n",
      "Epoch 10/50\n",
      "426/426 [==============================] - 0s 32us/step - loss: 0.5307 - accuracy: 0.6197 - val_loss: 1.6991 - val_accuracy: 0.4615\n",
      "Epoch 11/50\n",
      "426/426 [==============================] - 0s 30us/step - loss: 0.3786 - accuracy: 0.6901 - val_loss: 0.9152 - val_accuracy: 0.6084\n",
      "Epoch 12/50\n",
      "426/426 [==============================] - 0s 33us/step - loss: 0.5190 - accuracy: 0.6080 - val_loss: 2.1307 - val_accuracy: 0.3566\n",
      "Epoch 13/50\n",
      "426/426 [==============================] - 0s 30us/step - loss: 0.5367 - accuracy: 0.6103 - val_loss: 1.6232 - val_accuracy: 0.2797\n",
      "Epoch 14/50\n",
      "426/426 [==============================] - 0s 37us/step - loss: 0.8788 - accuracy: 0.4742 - val_loss: 2.7264 - val_accuracy: 0.2238\n",
      "Epoch 15/50\n",
      "426/426 [==============================] - 0s 30us/step - loss: 1.5761 - accuracy: 0.3028 - val_loss: 2.5729 - val_accuracy: 0.3986\n",
      "Epoch 16/50\n",
      "426/426 [==============================] - 0s 32us/step - loss: 1.4022 - accuracy: 0.3545 - val_loss: 1.1300 - val_accuracy: 0.6713\n",
      "Epoch 17/50\n",
      "426/426 [==============================] - 0s 36us/step - loss: 0.7111 - accuracy: 0.5258 - val_loss: 1.1683 - val_accuracy: 0.6364\n",
      "Epoch 18/50\n",
      "426/426 [==============================] - 0s 29us/step - loss: 0.5583 - accuracy: 0.5446 - val_loss: 1.5276 - val_accuracy: 0.7063\n",
      "Epoch 19/50\n",
      "426/426 [==============================] - 0s 28us/step - loss: 0.7540 - accuracy: 0.5493 - val_loss: 2.9429 - val_accuracy: 0.1958\n",
      "Epoch 20/50\n",
      "426/426 [==============================] - 0s 28us/step - loss: 0.7522 - accuracy: 0.5047 - val_loss: 1.1332 - val_accuracy: 0.6993\n",
      "Epoch 21/50\n",
      "426/426 [==============================] - 0s 31us/step - loss: 0.3573 - accuracy: 0.7136 - val_loss: 1.8952 - val_accuracy: 0.4336\n",
      "Epoch 22/50\n",
      "426/426 [==============================] - 0s 30us/step - loss: 0.4516 - accuracy: 0.6385 - val_loss: 1.0278 - val_accuracy: 0.7063\n",
      "Epoch 23/50\n",
      "426/426 [==============================] - 0s 29us/step - loss: 0.6026 - accuracy: 0.6174 - val_loss: 1.0296 - val_accuracy: 0.6434\n",
      "Epoch 24/50\n",
      "426/426 [==============================] - 0s 28us/step - loss: 1.0853 - accuracy: 0.4296 - val_loss: 1.9228 - val_accuracy: 0.2168\n",
      "Epoch 25/50\n",
      "426/426 [==============================] - 0s 28us/step - loss: 0.9230 - accuracy: 0.4390 - val_loss: 0.9741 - val_accuracy: 0.6294\n",
      "Epoch 26/50\n",
      "426/426 [==============================] - 0s 28us/step - loss: 0.8063 - accuracy: 0.4601 - val_loss: 1.6421 - val_accuracy: 0.5385\n",
      "Epoch 27/50\n",
      "426/426 [==============================] - 0s 30us/step - loss: 0.4153 - accuracy: 0.6549 - val_loss: 1.1612 - val_accuracy: 0.6224\n",
      "Epoch 28/50\n",
      "426/426 [==============================] - 0s 31us/step - loss: 0.6780 - accuracy: 0.5516 - val_loss: 1.1501 - val_accuracy: 0.6993\n",
      "Epoch 29/50\n",
      "426/426 [==============================] - 0s 29us/step - loss: 0.3612 - accuracy: 0.6620 - val_loss: 1.9275 - val_accuracy: 0.4755\n",
      "Epoch 30/50\n",
      "426/426 [==============================] - 0s 30us/step - loss: 0.5255 - accuracy: 0.5775 - val_loss: 3.6397 - val_accuracy: 0.1818\n",
      "Epoch 31/50\n",
      "426/426 [==============================] - 0s 29us/step - loss: 0.9166 - accuracy: 0.4859 - val_loss: 1.0790 - val_accuracy: 0.6224\n",
      "Epoch 32/50\n",
      "426/426 [==============================] - 0s 29us/step - loss: 0.3970 - accuracy: 0.6737 - val_loss: 0.9969 - val_accuracy: 0.7203\n",
      "Epoch 33/50\n",
      "426/426 [==============================] - 0s 30us/step - loss: 0.8086 - accuracy: 0.5047 - val_loss: 0.9353 - val_accuracy: 0.6853\n",
      "Epoch 34/50\n",
      "426/426 [==============================] - 0s 31us/step - loss: 0.6286 - accuracy: 0.5235 - val_loss: 1.9327 - val_accuracy: 0.4056\n",
      "Epoch 35/50\n",
      "426/426 [==============================] - 0s 29us/step - loss: 1.1994 - accuracy: 0.3991 - val_loss: 1.0124 - val_accuracy: 0.7413\n",
      "Epoch 36/50\n",
      "426/426 [==============================] - 0s 30us/step - loss: 0.5021 - accuracy: 0.6174 - val_loss: 0.9735 - val_accuracy: 0.6224\n",
      "Epoch 37/50\n",
      "426/426 [==============================] - 0s 29us/step - loss: 1.2189 - accuracy: 0.4366 - val_loss: 1.1755 - val_accuracy: 0.5524\n",
      "Epoch 38/50\n",
      "426/426 [==============================] - 0s 30us/step - loss: 2.0952 - accuracy: 0.3427 - val_loss: 1.1997 - val_accuracy: 0.6643\n",
      "Epoch 39/50\n",
      "426/426 [==============================] - 0s 32us/step - loss: 1.2997 - accuracy: 0.3873 - val_loss: 1.6339 - val_accuracy: 0.1818\n",
      "Epoch 40/50\n",
      "426/426 [==============================] - 0s 30us/step - loss: 1.1640 - accuracy: 0.3897 - val_loss: 1.5717 - val_accuracy: 0.4965\n",
      "Epoch 41/50\n",
      "426/426 [==============================] - 0s 27us/step - loss: 0.7652 - accuracy: 0.5023 - val_loss: 1.6877 - val_accuracy: 0.4545\n",
      "Epoch 42/50\n",
      "426/426 [==============================] - 0s 29us/step - loss: 1.5130 - accuracy: 0.3568 - val_loss: 2.3779 - val_accuracy: 0.3147\n",
      "Epoch 43/50\n",
      "426/426 [==============================] - 0s 30us/step - loss: 2.0504 - accuracy: 0.2864 - val_loss: 1.3695 - val_accuracy: 0.3636\n",
      "Epoch 44/50\n",
      "426/426 [==============================] - 0s 25us/step - loss: 3.0347 - accuracy: 0.1596 - val_loss: 18.0005 - val_accuracy: 0.0000e+00\n",
      "Epoch 45/50\n",
      "426/426 [==============================] - 0s 32us/step - loss: 8.0524 - accuracy: 0.1526 - val_loss: 2.8570 - val_accuracy: 0.2028\n",
      "Epoch 46/50\n",
      "426/426 [==============================] - 0s 30us/step - loss: 6.3875 - accuracy: 0.1784 - val_loss: 18.3513 - val_accuracy: 0.0070\n",
      "Epoch 47/50\n",
      "426/426 [==============================] - 0s 30us/step - loss: 6.5257 - accuracy: 0.0986 - val_loss: 21.3490 - val_accuracy: 0.0000e+00\n",
      "Epoch 48/50\n",
      "426/426 [==============================] - 0s 31us/step - loss: 7.7620 - accuracy: 0.1854 - val_loss: 13.1397 - val_accuracy: 0.0070\n",
      "Epoch 49/50\n",
      "426/426 [==============================] - 0s 30us/step - loss: 3.8387 - accuracy: 0.1831 - val_loss: 4.9242 - val_accuracy: 0.0140\n",
      "Epoch 50/50\n",
      "426/426 [==============================] - 0s 29us/step - loss: 2.3268 - accuracy: 0.2019 - val_loss: 3.2822 - val_accuracy: 0.1119\n"
     ]
    }
   ],
   "source": [
    "history = model.fit(X_train, y_train, validation_data=(X_test, y_test),\n",
    "         epochs=50, batch_size=32)"
   ]
  },
  {
   "cell_type": "code",
   "execution_count": 59,
   "metadata": {},
   "outputs": [
    {
     "data": {
      "text/plain": [
       "<matplotlib.legend.Legend at 0x1a3cbf1550>"
      ]
     },
     "execution_count": 59,
     "metadata": {},
     "output_type": "execute_result"
    },
    {
     "data": {
      "image/png": "[encoded data removed]",
      "text/plain": [
       "<Figure size 432x288 with 1 Axes>"
      ]
     },
     "metadata": {
      "needs_background": "light"
     },
     "output_type": "display_data"
    }
   ],
   "source": [
    "train_loss = history.history['loss']\n",
    "test_loss = history.history['val_loss']\n",
    "plt.plot(train_loss, label='Training Loss')\n",
    "plt.plot(test_loss, label='Testing Loss')\n",
    "plt.legend()"
   ]
  },
  {
   "cell_type": "code",
   "execution_count": 60,
   "metadata": {},
   "outputs": [
    {
     "data": {
      "text/plain": [
       "<matplotlib.legend.Legend at 0x1a3ce80ac8>"
      ]
     },
     "execution_count": 60,
     "metadata": {},
     "output_type": "execute_result"
    },
    {
     "data": {
      "image/png": "[encoded data removed]",
      "text/plain": [
       "<Figure size 432x288 with 1 Axes>"
      ]
     },
     "metadata": {
      "needs_background": "light"
     },
     "output_type": "display_data"
    }
   ],
   "source": [
    "train_loss = history.history['accuracy']\n",
    "test_loss = history.history['val_accuracy']\n",
    "plt.plot(train_loss, label='Training Acccuracy')\n",
    "plt.plot(test_loss, label='Validation Accuracy')\n",
    "plt.legend()"
   ]
  },
  {
   "cell_type": "code",
   "execution_count": 61,
   "metadata": {},
   "outputs": [
    {
     "data": {
      "text/plain": [
       "array([[ 0.26945543,  1.        ],\n",
       "       [-0.84955549,  1.        ],\n",
       "       [-0.16496991,  1.        ],\n",
       "       [ 0.11111118,  1.        ],\n",
       "       [-0.12464093,  1.        ],\n",
       "       [ 0.57185793,  1.        ],\n",
       "       [-0.5802989 ,  1.        ],\n",
       "       [-0.08599041,  1.        ],\n",
       "       [-0.21965741,  1.        ],\n",
       "       [-0.2640872 ,  1.        ],\n",
       "       [-0.50133085,  1.        ],\n",
       "       [-1.89733839,  0.        ],\n",
       "       [-1.56152296,  0.        ],\n",
       "       [-1.36212873,  0.        ],\n",
       "       [ 0.0947137 ,  1.        ],\n",
       "       [-2.61131239,  0.        ],\n",
       "       [-4.38333845,  0.        ],\n",
       "       [-2.4982295 ,  0.        ],\n",
       "       [-0.79936934,  1.        ],\n",
       "       [-1.7434535 ,  0.        ]])"
      ]
     },
     "execution_count": 61,
     "metadata": {},
     "output_type": "execute_result"
    }
   ],
   "source": [
    "np.hstack([model.predict(X_test), y_test.reshape(143, 1)])[:20]"
   ]
  },
  {
   "cell_type": "code",
   "execution_count": 62,
   "metadata": {},
   "outputs": [
    {
     "name": "stdout",
     "output_type": "stream",
     "text": [
      "143/143 [==============================] - 0s 26us/step\n"
     ]
    },
    {
     "data": {
      "text/plain": [
       "[3.282207725764988, 0.1118881106376648]"
      ]
     },
     "execution_count": 62,
     "metadata": {},
     "output_type": "execute_result"
    }
   ],
   "source": [
    "model.evaluate(X_test, y_test)"
   ]
  },
  {
   "cell_type": "markdown",
   "metadata": {},
   "source": [
    "## Constructing a Neural Network in (\"Base\") Tensorflow\n",
    "\n",
    "## You don't need this bit --> this is literally just here to show you that it would be less intuitive to do it in TF and to encourage you to stick to Keras."
   ]
  },
  {
   "cell_type": "code",
   "execution_count": 9,
   "metadata": {},
   "outputs": [],
   "source": [
    "import tensorflow as tf"
   ]
  },
  {
   "cell_type": "code",
   "execution_count": 13,
   "metadata": {},
   "outputs": [],
   "source": [
    "var_1 = tf.Variable(3)\n",
    "var_2 = tf.Variable(2)\n",
    "\n",
    "var_3 = var_1 * var_2\n",
    "var_4 = var_1 + var_3 * var_2"
   ]
  },
  {
   "cell_type": "code",
   "execution_count": 15,
   "metadata": {},
   "outputs": [],
   "source": [
    "init = tf.global_variables_initializer()\n",
    "\n",
    "with tf.Session() as sess:\n",
    "    init.run()\n",
    "    result = sess.run(var_4)"
   ]
  },
  {
   "cell_type": "code",
   "execution_count": 16,
   "metadata": {},
   "outputs": [
    {
     "name": "stdout",
     "output_type": "stream",
     "text": [
      "15\n"
     ]
    }
   ],
   "source": [
    "print(result)"
   ]
  },
  {
   "cell_type": "code",
   "execution_count": 39,
   "metadata": {},
   "outputs": [
    {
     "data": {
      "text/plain": [
       "(426, 30)"
      ]
     },
     "execution_count": 39,
     "metadata": {},
     "output_type": "execute_result"
    }
   ],
   "source": [
    "X_train_scaled.shape"
   ]
  },
  {
   "cell_type": "code",
   "execution_count": 45,
   "metadata": {},
   "outputs": [],
   "source": [
    "tf.reset_default_graph()\n",
    "\n",
    "X = tf.placeholder(dtype=tf.float32, shape=(None, 30))\n",
    "y = tf.placeholder(dtype=tf.float32, shape=(None, 1))\n",
    "\n",
    "hid = tf.layers.dense(X, 30, activation=tf.nn.relu)\n",
    "y_hat = tf.layers.dense(hid, 1, activation=tf.nn.sigmoid)\n",
    "\n",
    "loss = tf.losses.log_loss(y, y_hat)\n",
    "optimizer = tf.train.AdamOptimizer(0.01)\n",
    "training_run = optimizer.minimize(loss)\n",
    "\n",
    "saver = tf.train.Saver()"
   ]
  },
  {
   "cell_type": "code",
   "execution_count": 48,
   "metadata": {},
   "outputs": [
    {
     "data": {
      "text/plain": [
       "0.34965034965034963"
      ]
     },
     "execution_count": 48,
     "metadata": {},
     "output_type": "execute_result"
    }
   ],
   "source": [
    "init = tf.global_variables_initializer()\n",
    "\n",
    "with tf.Session() as sess:\n",
    "    init.run()\n",
    "    \n",
    "    for _ in range(100):\n",
    "        sess.run(training_run, feed_dict={X: X_train_scaled, y: y_train.reshape(-1, 1)})\n",
    "        \n",
    "    pred = sess.run(y_hat, feed_dict={X: X_test})\n",
    "\n",
    "classes = (pred > 0.5).astype(int)\n",
    "\n",
    "metrics.accuracy_score(y_test.reshape(-1, 1), classes)"
   ]
  },
  {
   "cell_type": "code",
   "execution_count": null,
   "metadata": {},
   "outputs": [],
   "source": []
  }
 ],
 "metadata": {
  "kernelspec": {
   "display_name": "Python 3",
   "language": "python",
   "name": "python3"
  },
  "language_info": {
   "codemirror_mode": {
    "name": "ipython",
    "version": 3
   },
   "file_extension": ".py",
   "mimetype": "text/x-python",
   "name": "python",
   "nbconvert_exporter": "python",
   "pygments_lexer": "ipython3",
   "version": "3.6.10"
  }
 },
 "nbformat": 4,
 "nbformat_minor": 4
}
