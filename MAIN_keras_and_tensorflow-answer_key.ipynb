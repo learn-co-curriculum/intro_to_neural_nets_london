{
 "cells": [
  {
   "cell_type": "markdown",
   "metadata": {},
   "source": [
    "# Neural Networks with keras and tensorflow\n",
    "\n",
    "N.B. You will need to pip install keras and tensorflow!"
   ]
  },
  {
   "cell_type": "code",
   "execution_count": 1,
   "metadata": {},
   "outputs": [
    {
     "name": "stdout",
     "output_type": "stream",
     "text": [
      "Requirement already satisfied: keras in /Users/ipreoteasa/opt/anaconda3/envs/learn-env/lib/python3.6/site-packages (2.3.1)\n",
      "Requirement already satisfied: scipy>=0.14 in /Users/ipreoteasa/opt/anaconda3/envs/learn-env/lib/python3.6/site-packages (from keras) (1.4.1)\n",
      "Requirement already satisfied: numpy>=1.9.1 in /Users/ipreoteasa/opt/anaconda3/envs/learn-env/lib/python3.6/site-packages (from keras) (1.18.1)\n",
      "Requirement already satisfied: h5py in /Users/ipreoteasa/opt/anaconda3/envs/learn-env/lib/python3.6/site-packages (from keras) (2.10.0)\n",
      "Requirement already satisfied: keras-preprocessing>=1.0.5 in /Users/ipreoteasa/opt/anaconda3/envs/learn-env/lib/python3.6/site-packages (from keras) (1.1.0)\n",
      "Requirement already satisfied: six>=1.9.0 in /Users/ipreoteasa/opt/anaconda3/envs/learn-env/lib/python3.6/site-packages (from keras) (1.14.0)\n",
      "Requirement already satisfied: keras-applications>=1.0.6 in /Users/ipreoteasa/opt/anaconda3/envs/learn-env/lib/python3.6/site-packages (from keras) (1.0.8)\n",
      "Requirement already satisfied: pyyaml in /Users/ipreoteasa/opt/anaconda3/envs/learn-env/lib/python3.6/site-packages (from keras) (5.3)\n",
      "Collecting tf\n",
      "  Downloading tf-1.0.0.tar.gz (620 bytes)\n",
      "Building wheels for collected packages: tf\n",
      "  Building wheel for tf (setup.py) ... \u001b[?25ldone\n",
      "\u001b[?25h  Created wheel for tf: filename=tf-1.0.0-py3-none-any.whl size=1284 sha256=d5d1ee1ac224b03669f95d35ee5e03c017a003fb124beb8004a44d5a895a395d\n",
      "  Stored in directory: /Users/ipreoteasa/Library/Caches/pip/wheels/6d/03/f6/1d97b4482b763343106cecf16b71a8b581d86fb4e0afc0865f\n",
      "Successfully built tf\n",
      "Installing collected packages: tf\n",
      "Successfully installed tf-1.0.0\n"
     ]
    }
   ],
   "source": [
    "!pip install keras\n",
    "!pip install tf"
   ]
  },
  {
   "cell_type": "markdown",
   "metadata": {},
   "source": [
    "## Diabetes Solution"
   ]
  },
  {
   "cell_type": "code",
   "execution_count": 2,
   "metadata": {},
   "outputs": [],
   "source": [
    "import pandas as pd\n",
    "import numpy as np\n",
    "import matplotlib.pyplot as plt"
   ]
  },
  {
   "cell_type": "code",
   "execution_count": 4,
   "metadata": {},
   "outputs": [],
   "source": [
    "from keras.models import Sequential\n",
    "from keras.layers import Dense\n",
    "import warnings\n",
    "warnings.filterwarnings('ignore')"
   ]
  },
  {
   "cell_type": "code",
   "execution_count": 5,
   "metadata": {},
   "outputs": [],
   "source": [
    "from sklearn.preprocessing import StandardScaler\n",
    "from sklearn.model_selection import train_test_split\n",
    "\n",
    "ss = StandardScaler()\n"
   ]
  },
  {
   "cell_type": "code",
   "execution_count": 7,
   "metadata": {},
   "outputs": [],
   "source": [
    "df = pd.read_csv('https://query.data.world/s/hbvdf6y2dqlpzjsc5ho5yboxy3tz7l')"
   ]
  },
  {
   "cell_type": "code",
   "execution_count": 8,
   "metadata": {},
   "outputs": [
    {
     "name": "stdout",
     "output_type": "stream",
     "text": [
      "<class 'pandas.core.frame.DataFrame'>\n",
      "RangeIndex: 768 entries, 0 to 767\n",
      "Data columns (total 9 columns):\n",
      " #   Column                    Non-Null Count  Dtype  \n",
      "---  ------                    --------------  -----  \n",
      " 0   Pregnancies               768 non-null    int64  \n",
      " 1   Glucose                   768 non-null    int64  \n",
      " 2   BloodPressure             768 non-null    int64  \n",
      " 3   SkinThickness             768 non-null    int64  \n",
      " 4   Insulin                   768 non-null    int64  \n",
      " 5   BMI                       768 non-null    float64\n",
      " 6   DiabetesPedigreeFunction  768 non-null    float64\n",
      " 7   Age                       768 non-null    int64  \n",
      " 8   Outcome                   768 non-null    int64  \n",
      "dtypes: float64(2), int64(7)\n",
      "memory usage: 54.1 KB\n"
     ]
    }
   ],
   "source": [
    "df.info()"
   ]
  },
  {
   "cell_type": "code",
   "execution_count": 9,
   "metadata": {},
   "outputs": [
    {
     "data": {
      "text/plain": [
       "(768, 9)"
      ]
     },
     "execution_count": 9,
     "metadata": {},
     "output_type": "execute_result"
    }
   ],
   "source": [
    "df.shape"
   ]
  },
  {
   "cell_type": "code",
   "execution_count": 10,
   "metadata": {},
   "outputs": [],
   "source": [
    "df_num= df.to_numpy()"
   ]
  },
  {
   "cell_type": "code",
   "execution_count": 66,
   "metadata": {},
   "outputs": [],
   "source": [
    "X_data = df_num[:,0:-1]\n",
    "Y_data= df_num[:,-1]"
   ]
  },
  {
   "cell_type": "code",
   "execution_count": 67,
   "metadata": {},
   "outputs": [],
   "source": [
    "X_train, X_test, y_train, y_test = train_test_split(X_data, Y_data,test_size=.2)"
   ]
  },
  {
   "cell_type": "code",
   "execution_count": 68,
   "metadata": {},
   "outputs": [
    {
     "data": {
      "text/plain": [
       "StandardScaler(copy=True, with_mean=True, with_std=True)"
      ]
     },
     "execution_count": 68,
     "metadata": {},
     "output_type": "execute_result"
    }
   ],
   "source": [
    "ss.fit(X_train)"
   ]
  },
  {
   "cell_type": "code",
   "execution_count": 69,
   "metadata": {},
   "outputs": [],
   "source": [
    "X_train = ss.transform(X_train)\n",
    "X_test = ss.transform(X_test)"
   ]
  },
  {
   "cell_type": "code",
   "execution_count": 70,
   "metadata": {},
   "outputs": [
    {
     "name": "stdout",
     "output_type": "stream",
     "text": [
      "Model: \"sequential_11\"\n",
      "_________________________________________________________________\n",
      "Layer (type)                 Output Shape              Param #   \n",
      "=================================================================\n",
      "dense_23 (Dense)             (None, 12)                108       \n",
      "_________________________________________________________________\n",
      "dense_24 (Dense)             (None, 8)                 104       \n",
      "_________________________________________________________________\n",
      "dense_25 (Dense)             (None, 1)                 9         \n",
      "=================================================================\n",
      "Total params: 221\n",
      "Trainable params: 221\n",
      "Non-trainable params: 0\n",
      "_________________________________________________________________\n"
     ]
    }
   ],
   "source": [
    "model = Sequential()\n",
    "model.add(Dense(12, input_dim=8, activation='relu'))\n",
    "model.add(Dense(8, activation='relu'))\n",
    "model.add(Dense(1, activation='sigmoid'))\n",
    "\n",
    "#activation='sigmoid'\n",
    "model.compile(optimizer='rmsprop',\n",
    "              loss= 'binary_crossentropy',\n",
    "              metrics=['accuracy'])\n",
    "\n",
    "model.summary()"
   ]
  },
  {
   "cell_type": "code",
   "execution_count": 21,
   "metadata": {
    "scrolled": true
   },
   "outputs": [
    {
     "name": "stdout",
     "output_type": "stream",
     "text": [
      "Train on 614 samples, validate on 154 samples\n",
      "Epoch 1/100\n",
      "614/614 [==============================] - 0s 222us/step - loss: 0.7482 - accuracy: 0.4723 - val_loss: 0.7158 - val_accuracy: 0.5195\n",
      "Epoch 2/100\n",
      "614/614 [==============================] - 0s 34us/step - loss: 0.7062 - accuracy: 0.5635 - val_loss: 0.6883 - val_accuracy: 0.6169\n",
      "Epoch 3/100\n",
      "614/614 [==============================] - 0s 39us/step - loss: 0.6771 - accuracy: 0.6303 - val_loss: 0.6621 - val_accuracy: 0.6429\n",
      "Epoch 4/100\n",
      "614/614 [==============================] - 0s 50us/step - loss: 0.6506 - accuracy: 0.6743 - val_loss: 0.6349 - val_accuracy: 0.6753\n",
      "Epoch 5/100\n",
      "614/614 [==============================] - 0s 47us/step - loss: 0.6239 - accuracy: 0.6987 - val_loss: 0.6095 - val_accuracy: 0.6818\n",
      "Epoch 6/100\n",
      "614/614 [==============================] - 0s 41us/step - loss: 0.5996 - accuracy: 0.7231 - val_loss: 0.5861 - val_accuracy: 0.6883\n",
      "Epoch 7/100\n",
      "614/614 [==============================] - 0s 43us/step - loss: 0.5783 - accuracy: 0.7231 - val_loss: 0.5671 - val_accuracy: 0.6948\n",
      "Epoch 8/100\n",
      "614/614 [==============================] - 0s 37us/step - loss: 0.5606 - accuracy: 0.7394 - val_loss: 0.5515 - val_accuracy: 0.7143\n",
      "Epoch 9/100\n",
      "614/614 [==============================] - 0s 40us/step - loss: 0.5456 - accuracy: 0.7443 - val_loss: 0.5358 - val_accuracy: 0.7208\n",
      "Epoch 10/100\n",
      "614/614 [==============================] - 0s 39us/step - loss: 0.5317 - accuracy: 0.7590 - val_loss: 0.5235 - val_accuracy: 0.7273\n",
      "Epoch 11/100\n",
      "614/614 [==============================] - 0s 39us/step - loss: 0.5194 - accuracy: 0.7687 - val_loss: 0.5129 - val_accuracy: 0.7403\n",
      "Epoch 12/100\n",
      "614/614 [==============================] - 0s 38us/step - loss: 0.5091 - accuracy: 0.7687 - val_loss: 0.5031 - val_accuracy: 0.7468\n",
      "Epoch 13/100\n",
      "614/614 [==============================] - 0s 44us/step - loss: 0.4994 - accuracy: 0.7720 - val_loss: 0.4967 - val_accuracy: 0.7662\n",
      "Epoch 14/100\n",
      "614/614 [==============================] - 0s 44us/step - loss: 0.4926 - accuracy: 0.7736 - val_loss: 0.4911 - val_accuracy: 0.7597\n",
      "Epoch 15/100\n",
      "614/614 [==============================] - 0s 41us/step - loss: 0.4866 - accuracy: 0.7801 - val_loss: 0.4860 - val_accuracy: 0.7662\n",
      "Epoch 16/100\n",
      "614/614 [==============================] - 0s 41us/step - loss: 0.4815 - accuracy: 0.7850 - val_loss: 0.4830 - val_accuracy: 0.7662\n",
      "Epoch 17/100\n",
      "614/614 [==============================] - 0s 37us/step - loss: 0.4778 - accuracy: 0.7915 - val_loss: 0.4799 - val_accuracy: 0.7532\n",
      "Epoch 18/100\n",
      "614/614 [==============================] - 0s 37us/step - loss: 0.4738 - accuracy: 0.7932 - val_loss: 0.4772 - val_accuracy: 0.7597\n",
      "Epoch 19/100\n",
      "614/614 [==============================] - 0s 37us/step - loss: 0.4704 - accuracy: 0.7948 - val_loss: 0.4750 - val_accuracy: 0.7597\n",
      "Epoch 20/100\n",
      "614/614 [==============================] - 0s 34us/step - loss: 0.4674 - accuracy: 0.7948 - val_loss: 0.4731 - val_accuracy: 0.7727\n",
      "Epoch 21/100\n",
      "614/614 [==============================] - 0s 35us/step - loss: 0.4647 - accuracy: 0.7915 - val_loss: 0.4721 - val_accuracy: 0.7727\n",
      "Epoch 22/100\n",
      "614/614 [==============================] - 0s 34us/step - loss: 0.4625 - accuracy: 0.7899 - val_loss: 0.4704 - val_accuracy: 0.7727\n",
      "Epoch 23/100\n",
      "614/614 [==============================] - 0s 49us/step - loss: 0.4609 - accuracy: 0.7899 - val_loss: 0.4691 - val_accuracy: 0.7662\n",
      "Epoch 24/100\n",
      "614/614 [==============================] - 0s 37us/step - loss: 0.4586 - accuracy: 0.7899 - val_loss: 0.4686 - val_accuracy: 0.7662\n",
      "Epoch 25/100\n",
      "614/614 [==============================] - 0s 34us/step - loss: 0.4569 - accuracy: 0.7915 - val_loss: 0.4674 - val_accuracy: 0.7662\n",
      "Epoch 26/100\n",
      "614/614 [==============================] - 0s 35us/step - loss: 0.4556 - accuracy: 0.7915 - val_loss: 0.4663 - val_accuracy: 0.7727\n",
      "Epoch 27/100\n",
      "614/614 [==============================] - 0s 42us/step - loss: 0.4545 - accuracy: 0.7915 - val_loss: 0.4652 - val_accuracy: 0.7662\n",
      "Epoch 28/100\n",
      "614/614 [==============================] - 0s 38us/step - loss: 0.4530 - accuracy: 0.7932 - val_loss: 0.4647 - val_accuracy: 0.7662\n",
      "Epoch 29/100\n",
      "614/614 [==============================] - 0s 41us/step - loss: 0.4516 - accuracy: 0.7948 - val_loss: 0.4636 - val_accuracy: 0.7662\n",
      "Epoch 30/100\n",
      "614/614 [==============================] - 0s 45us/step - loss: 0.4507 - accuracy: 0.7964 - val_loss: 0.4633 - val_accuracy: 0.7662\n",
      "Epoch 31/100\n",
      "614/614 [==============================] - 0s 35us/step - loss: 0.4496 - accuracy: 0.7964 - val_loss: 0.4636 - val_accuracy: 0.7662\n",
      "Epoch 32/100\n",
      "614/614 [==============================] - 0s 37us/step - loss: 0.4486 - accuracy: 0.7964 - val_loss: 0.4632 - val_accuracy: 0.7597\n",
      "Epoch 33/100\n",
      "614/614 [==============================] - 0s 30us/step - loss: 0.4477 - accuracy: 0.7997 - val_loss: 0.4623 - val_accuracy: 0.7662\n",
      "Epoch 34/100\n",
      "614/614 [==============================] - 0s 32us/step - loss: 0.4471 - accuracy: 0.7980 - val_loss: 0.4620 - val_accuracy: 0.7597\n",
      "Epoch 35/100\n",
      "614/614 [==============================] - 0s 30us/step - loss: 0.4463 - accuracy: 0.7997 - val_loss: 0.4621 - val_accuracy: 0.7532\n",
      "Epoch 36/100\n",
      "614/614 [==============================] - 0s 29us/step - loss: 0.4455 - accuracy: 0.8029 - val_loss: 0.4628 - val_accuracy: 0.7662\n",
      "Epoch 37/100\n",
      "614/614 [==============================] - 0s 36us/step - loss: 0.4449 - accuracy: 0.7997 - val_loss: 0.4617 - val_accuracy: 0.7532\n",
      "Epoch 38/100\n",
      "614/614 [==============================] - 0s 32us/step - loss: 0.4440 - accuracy: 0.8013 - val_loss: 0.4622 - val_accuracy: 0.7597\n",
      "Epoch 39/100\n",
      "614/614 [==============================] - 0s 35us/step - loss: 0.4436 - accuracy: 0.8029 - val_loss: 0.4618 - val_accuracy: 0.7597\n",
      "Epoch 40/100\n",
      "614/614 [==============================] - 0s 32us/step - loss: 0.4427 - accuracy: 0.8062 - val_loss: 0.4605 - val_accuracy: 0.7662\n",
      "Epoch 41/100\n",
      "614/614 [==============================] - 0s 32us/step - loss: 0.4423 - accuracy: 0.8046 - val_loss: 0.4607 - val_accuracy: 0.7597\n",
      "Epoch 42/100\n",
      "614/614 [==============================] - 0s 33us/step - loss: 0.4416 - accuracy: 0.8078 - val_loss: 0.4605 - val_accuracy: 0.7597\n",
      "Epoch 43/100\n",
      "614/614 [==============================] - 0s 32us/step - loss: 0.4412 - accuracy: 0.8029 - val_loss: 0.4610 - val_accuracy: 0.7597\n",
      "Epoch 44/100\n",
      "614/614 [==============================] - 0s 30us/step - loss: 0.4406 - accuracy: 0.8078 - val_loss: 0.4600 - val_accuracy: 0.7727\n",
      "Epoch 45/100\n",
      "614/614 [==============================] - 0s 33us/step - loss: 0.4402 - accuracy: 0.8046 - val_loss: 0.4604 - val_accuracy: 0.7597\n",
      "Epoch 46/100\n",
      "614/614 [==============================] - 0s 29us/step - loss: 0.4394 - accuracy: 0.8062 - val_loss: 0.4604 - val_accuracy: 0.7662\n",
      "Epoch 47/100\n",
      "614/614 [==============================] - 0s 31us/step - loss: 0.4387 - accuracy: 0.8013 - val_loss: 0.4620 - val_accuracy: 0.7597\n",
      "Epoch 48/100\n",
      "614/614 [==============================] - 0s 34us/step - loss: 0.4385 - accuracy: 0.8111 - val_loss: 0.4625 - val_accuracy: 0.7597\n",
      "Epoch 49/100\n",
      "614/614 [==============================] - 0s 28us/step - loss: 0.4377 - accuracy: 0.8127 - val_loss: 0.4637 - val_accuracy: 0.7597\n",
      "Epoch 50/100\n",
      "614/614 [==============================] - 0s 38us/step - loss: 0.4374 - accuracy: 0.8111 - val_loss: 0.4636 - val_accuracy: 0.7597\n",
      "Epoch 51/100\n",
      "614/614 [==============================] - 0s 37us/step - loss: 0.4364 - accuracy: 0.8143 - val_loss: 0.4631 - val_accuracy: 0.7597\n",
      "Epoch 52/100\n",
      "614/614 [==============================] - 0s 40us/step - loss: 0.4362 - accuracy: 0.8160 - val_loss: 0.4632 - val_accuracy: 0.7597\n",
      "Epoch 53/100\n",
      "614/614 [==============================] - 0s 33us/step - loss: 0.4355 - accuracy: 0.8143 - val_loss: 0.4632 - val_accuracy: 0.7662\n",
      "Epoch 54/100\n",
      "614/614 [==============================] - 0s 45us/step - loss: 0.4350 - accuracy: 0.8127 - val_loss: 0.4624 - val_accuracy: 0.7662\n",
      "Epoch 55/100\n",
      "614/614 [==============================] - 0s 35us/step - loss: 0.4343 - accuracy: 0.8143 - val_loss: 0.4624 - val_accuracy: 0.7662\n",
      "Epoch 56/100\n",
      "614/614 [==============================] - 0s 35us/step - loss: 0.4340 - accuracy: 0.8143 - val_loss: 0.4617 - val_accuracy: 0.7727\n",
      "Epoch 57/100\n",
      "614/614 [==============================] - 0s 35us/step - loss: 0.4330 - accuracy: 0.8127 - val_loss: 0.4609 - val_accuracy: 0.7727\n",
      "Epoch 58/100\n",
      "614/614 [==============================] - 0s 32us/step - loss: 0.4325 - accuracy: 0.8094 - val_loss: 0.4612 - val_accuracy: 0.7727\n",
      "Epoch 59/100\n",
      "614/614 [==============================] - 0s 37us/step - loss: 0.4327 - accuracy: 0.8143 - val_loss: 0.4611 - val_accuracy: 0.7727\n",
      "Epoch 60/100\n",
      "614/614 [==============================] - 0s 33us/step - loss: 0.4314 - accuracy: 0.8127 - val_loss: 0.4613 - val_accuracy: 0.7727\n",
      "Epoch 61/100\n",
      "614/614 [==============================] - 0s 33us/step - loss: 0.4312 - accuracy: 0.8127 - val_loss: 0.4597 - val_accuracy: 0.7662\n",
      "Epoch 62/100\n",
      "614/614 [==============================] - 0s 31us/step - loss: 0.4311 - accuracy: 0.8062 - val_loss: 0.4617 - val_accuracy: 0.7727\n",
      "Epoch 63/100\n",
      "614/614 [==============================] - 0s 35us/step - loss: 0.4303 - accuracy: 0.8127 - val_loss: 0.4613 - val_accuracy: 0.7727\n",
      "Epoch 64/100\n",
      "614/614 [==============================] - 0s 31us/step - loss: 0.4299 - accuracy: 0.8111 - val_loss: 0.4608 - val_accuracy: 0.7662\n",
      "Epoch 65/100\n",
      "614/614 [==============================] - 0s 33us/step - loss: 0.4296 - accuracy: 0.8094 - val_loss: 0.4619 - val_accuracy: 0.7727\n",
      "Epoch 66/100\n",
      "614/614 [==============================] - 0s 32us/step - loss: 0.4292 - accuracy: 0.8127 - val_loss: 0.4624 - val_accuracy: 0.7727\n",
      "Epoch 67/100\n",
      "614/614 [==============================] - 0s 31us/step - loss: 0.4288 - accuracy: 0.8127 - val_loss: 0.4616 - val_accuracy: 0.7662\n",
      "Epoch 68/100\n",
      "614/614 [==============================] - 0s 33us/step - loss: 0.4285 - accuracy: 0.8111 - val_loss: 0.4622 - val_accuracy: 0.7662\n",
      "Epoch 69/100\n",
      "614/614 [==============================] - 0s 36us/step - loss: 0.4277 - accuracy: 0.8111 - val_loss: 0.4627 - val_accuracy: 0.7727\n",
      "Epoch 70/100\n",
      "614/614 [==============================] - 0s 31us/step - loss: 0.4270 - accuracy: 0.8143 - val_loss: 0.4633 - val_accuracy: 0.7727\n",
      "Epoch 71/100\n",
      "614/614 [==============================] - 0s 33us/step - loss: 0.4271 - accuracy: 0.8094 - val_loss: 0.4617 - val_accuracy: 0.7727\n",
      "Epoch 72/100\n",
      "614/614 [==============================] - 0s 32us/step - loss: 0.4264 - accuracy: 0.8111 - val_loss: 0.4611 - val_accuracy: 0.7727\n",
      "Epoch 73/100\n",
      "614/614 [==============================] - 0s 32us/step - loss: 0.4257 - accuracy: 0.8143 - val_loss: 0.4626 - val_accuracy: 0.7662\n",
      "Epoch 74/100\n",
      "614/614 [==============================] - 0s 33us/step - loss: 0.4256 - accuracy: 0.8143 - val_loss: 0.4625 - val_accuracy: 0.7597\n",
      "Epoch 75/100\n",
      "614/614 [==============================] - 0s 32us/step - loss: 0.4253 - accuracy: 0.8127 - val_loss: 0.4620 - val_accuracy: 0.7662\n",
      "Epoch 76/100\n",
      "614/614 [==============================] - 0s 27us/step - loss: 0.4246 - accuracy: 0.8143 - val_loss: 0.4614 - val_accuracy: 0.7727\n",
      "Epoch 77/100\n",
      "614/614 [==============================] - 0s 29us/step - loss: 0.4244 - accuracy: 0.8160 - val_loss: 0.4619 - val_accuracy: 0.7727\n",
      "Epoch 78/100\n",
      "614/614 [==============================] - 0s 27us/step - loss: 0.4242 - accuracy: 0.8160 - val_loss: 0.4634 - val_accuracy: 0.7597\n",
      "Epoch 79/100\n",
      "614/614 [==============================] - 0s 24us/step - loss: 0.4237 - accuracy: 0.8160 - val_loss: 0.4646 - val_accuracy: 0.7662\n",
      "Epoch 80/100\n",
      "614/614 [==============================] - 0s 34us/step - loss: 0.4236 - accuracy: 0.8143 - val_loss: 0.4631 - val_accuracy: 0.7727\n",
      "Epoch 81/100\n",
      "614/614 [==============================] - 0s 28us/step - loss: 0.4225 - accuracy: 0.8160 - val_loss: 0.4635 - val_accuracy: 0.7727\n",
      "Epoch 82/100\n",
      "614/614 [==============================] - 0s 27us/step - loss: 0.4226 - accuracy: 0.8094 - val_loss: 0.4620 - val_accuracy: 0.7727\n",
      "Epoch 83/100\n",
      "614/614 [==============================] - 0s 28us/step - loss: 0.4219 - accuracy: 0.8160 - val_loss: 0.4623 - val_accuracy: 0.7727\n",
      "Epoch 84/100\n",
      "614/614 [==============================] - 0s 29us/step - loss: 0.4215 - accuracy: 0.8127 - val_loss: 0.4621 - val_accuracy: 0.7727\n",
      "Epoch 85/100\n",
      "614/614 [==============================] - 0s 29us/step - loss: 0.4217 - accuracy: 0.8176 - val_loss: 0.4641 - val_accuracy: 0.7727\n",
      "Epoch 86/100\n",
      "614/614 [==============================] - 0s 29us/step - loss: 0.4207 - accuracy: 0.8143 - val_loss: 0.4640 - val_accuracy: 0.7792\n",
      "Epoch 87/100\n",
      "614/614 [==============================] - 0s 30us/step - loss: 0.4206 - accuracy: 0.8143 - val_loss: 0.4635 - val_accuracy: 0.7727\n",
      "Epoch 88/100\n",
      "614/614 [==============================] - 0s 26us/step - loss: 0.4203 - accuracy: 0.8176 - val_loss: 0.4648 - val_accuracy: 0.7662\n",
      "Epoch 89/100\n",
      "614/614 [==============================] - 0s 33us/step - loss: 0.4202 - accuracy: 0.8127 - val_loss: 0.4639 - val_accuracy: 0.7727\n",
      "Epoch 90/100\n",
      "614/614 [==============================] - 0s 30us/step - loss: 0.4194 - accuracy: 0.8208 - val_loss: 0.4639 - val_accuracy: 0.7727\n",
      "Epoch 91/100\n",
      "614/614 [==============================] - 0s 33us/step - loss: 0.4195 - accuracy: 0.8176 - val_loss: 0.4655 - val_accuracy: 0.7792\n",
      "Epoch 92/100\n",
      "614/614 [==============================] - 0s 30us/step - loss: 0.4190 - accuracy: 0.8143 - val_loss: 0.4641 - val_accuracy: 0.7727\n",
      "Epoch 93/100\n",
      "614/614 [==============================] - 0s 30us/step - loss: 0.4186 - accuracy: 0.8192 - val_loss: 0.4637 - val_accuracy: 0.7792\n",
      "Epoch 94/100\n",
      "614/614 [==============================] - 0s 30us/step - loss: 0.4183 - accuracy: 0.8143 - val_loss: 0.4639 - val_accuracy: 0.7792\n",
      "Epoch 95/100\n",
      "614/614 [==============================] - 0s 29us/step - loss: 0.4177 - accuracy: 0.8111 - val_loss: 0.4634 - val_accuracy: 0.7792\n",
      "Epoch 96/100\n",
      "614/614 [==============================] - 0s 27us/step - loss: 0.4173 - accuracy: 0.8192 - val_loss: 0.4639 - val_accuracy: 0.7792\n",
      "Epoch 97/100\n",
      "614/614 [==============================] - 0s 31us/step - loss: 0.4172 - accuracy: 0.8160 - val_loss: 0.4641 - val_accuracy: 0.7792\n",
      "Epoch 98/100\n",
      "614/614 [==============================] - 0s 26us/step - loss: 0.4173 - accuracy: 0.8176 - val_loss: 0.4648 - val_accuracy: 0.7792\n",
      "Epoch 99/100\n",
      "614/614 [==============================] - 0s 30us/step - loss: 0.4163 - accuracy: 0.8160 - val_loss: 0.4656 - val_accuracy: 0.7792\n",
      "Epoch 100/100\n",
      "614/614 [==============================] - 0s 29us/step - loss: 0.4161 - accuracy: 0.8143 - val_loss: 0.4643 - val_accuracy: 0.7727\n"
     ]
    }
   ],
   "source": [
    "training_history = model.fit(X_train, y_train, epochs=100, \n",
    "                             verbose=1, batch_size=32 , \n",
    "                             validation_data=(X_test, y_test))"
   ]
  },
  {
   "cell_type": "code",
   "execution_count": 22,
   "metadata": {},
   "outputs": [
    {
     "data": {
      "text/plain": [
       "<matplotlib.legend.Legend at 0x1a34c83a58>"
      ]
     },
     "execution_count": 22,
     "metadata": {},
     "output_type": "execute_result"
    },
    {
     "data": {
      "image/png": "[encoded data removed]",
      "text/plain": [
       "<Figure size 432x288 with 1 Axes>"
      ]
     },
     "metadata": {
      "needs_background": "light"
     },
     "output_type": "display_data"
    }
   ],
   "source": [
    "train_loss = training_history.history['loss']\n",
    "test_loss = training_history.history['val_loss']\n",
    "plt.plot(train_loss, label='Training Loss')\n",
    "plt.plot(test_loss, label='Validation Loss')\n",
    "plt.legend()"
   ]
  },
  {
   "cell_type": "code",
   "execution_count": 23,
   "metadata": {},
   "outputs": [
    {
     "data": {
      "text/plain": [
       "<matplotlib.legend.Legend at 0x1a34d3e668>"
      ]
     },
     "execution_count": 23,
     "metadata": {},
     "output_type": "execute_result"
    },
    {
     "data": {
      "image/png": "[encoded data removed]",
      "text/plain": [
       "<Figure size 432x288 with 1 Axes>"
      ]
     },
     "metadata": {
      "needs_background": "light"
     },
     "output_type": "display_data"
    }
   ],
   "source": [
    "train_loss = training_history.history['accuracy']\n",
    "test_loss = training_history.history['val_accuracy']\n",
    "plt.plot(train_loss, label='Training Acccuracy')\n",
    "plt.plot(test_loss, label='Validation Accuracy')\n",
    "plt.legend()"
   ]
  },
  {
   "cell_type": "code",
   "execution_count": 24,
   "metadata": {},
   "outputs": [],
   "source": [
    "from sklearn.datasets import load_breast_cancer\n",
    "from matplotlib import pyplot as plt\n",
    "import numpy as np\n",
    "from sklearn.model_selection import train_test_split\n",
    "from sklearn import metrics\n",
    "from sklearn.preprocessing import StandardScaler"
   ]
  },
  {
   "cell_type": "markdown",
   "metadata": {},
   "source": [
    "For this lesson we'll use sklearn's built-in breast cancer dataset. The next cell loads the data and prints the data description."
   ]
  },
  {
   "cell_type": "code",
   "execution_count": 25,
   "metadata": {},
   "outputs": [
    {
     "name": "stdout",
     "output_type": "stream",
     "text": [
      ".. _breast_cancer_dataset:\n",
      "\n",
      "Breast cancer wisconsin (diagnostic) dataset\n",
      "--------------------------------------------\n",
      "\n",
      "**Data Set Characteristics:**\n",
      "\n",
      "    :Number of Instances: 569\n",
      "\n",
      "    :Number of Attributes: 30 numeric, predictive attributes and the class\n",
      "\n",
      "    :Attribute Information:\n",
      "        - radius (mean of distances from center to points on the perimeter)\n",
      "        - texture (standard deviation of gray-scale values)\n",
      "        - perimeter\n",
      "        - area\n",
      "        - smoothness (local variation in radius lengths)\n",
      "        - compactness (perimeter^2 / area - 1.0)\n",
      "        - concavity (severity of concave portions of the contour)\n",
      "        - concave points (number of concave portions of the contour)\n",
      "        - symmetry \n",
      "        - fractal dimension (\"coastline approximation\" - 1)\n",
      "\n",
      "        The mean, standard error, and \"worst\" or largest (mean of the three\n",
      "        largest values) of these features were computed for each image,\n",
      "        resulting in 30 features.  For instance, field 3 is Mean Radius, field\n",
      "        13 is Radius SE, field 23 is Worst Radius.\n",
      "\n",
      "        - class:\n",
      "                - WDBC-Malignant\n",
      "                - WDBC-Benign\n",
      "\n",
      "    :Summary Statistics:\n",
      "\n",
      "    ===================================== ====== ======\n",
      "                                           Min    Max\n",
      "    ===================================== ====== ======\n",
      "    radius (mean):                        6.981  28.11\n",
      "    texture (mean):                       9.71   39.28\n",
      "    perimeter (mean):                     43.79  188.5\n",
      "    area (mean):                          143.5  2501.0\n",
      "    smoothness (mean):                    0.053  0.163\n",
      "    compactness (mean):                   0.019  0.345\n",
      "    concavity (mean):                     0.0    0.427\n",
      "    concave points (mean):                0.0    0.201\n",
      "    symmetry (mean):                      0.106  0.304\n",
      "    fractal dimension (mean):             0.05   0.097\n",
      "    radius (standard error):              0.112  2.873\n",
      "    texture (standard error):             0.36   4.885\n",
      "    perimeter (standard error):           0.757  21.98\n",
      "    area (standard error):                6.802  542.2\n",
      "    smoothness (standard error):          0.002  0.031\n",
      "    compactness (standard error):         0.002  0.135\n",
      "    concavity (standard error):           0.0    0.396\n",
      "    concave points (standard error):      0.0    0.053\n",
      "    symmetry (standard error):            0.008  0.079\n",
      "    fractal dimension (standard error):   0.001  0.03\n",
      "    radius (worst):                       7.93   36.04\n",
      "    texture (worst):                      12.02  49.54\n",
      "    perimeter (worst):                    50.41  251.2\n",
      "    area (worst):                         185.2  4254.0\n",
      "    smoothness (worst):                   0.071  0.223\n",
      "    compactness (worst):                  0.027  1.058\n",
      "    concavity (worst):                    0.0    1.252\n",
      "    concave points (worst):               0.0    0.291\n",
      "    symmetry (worst):                     0.156  0.664\n",
      "    fractal dimension (worst):            0.055  0.208\n",
      "    ===================================== ====== ======\n",
      "\n",
      "    :Missing Attribute Values: None\n",
      "\n",
      "    :Class Distribution: 212 - Malignant, 357 - Benign\n",
      "\n",
      "    :Creator:  Dr. William H. Wolberg, W. Nick Street, Olvi L. Mangasarian\n",
      "\n",
      "    :Donor: Nick Street\n",
      "\n",
      "    :Date: November, 1995\n",
      "\n",
      "This is a copy of UCI ML Breast Cancer Wisconsin (Diagnostic) datasets.\n",
      "https://goo.gl/U2Uwz2\n",
      "\n",
      "Features are computed from a digitized image of a fine needle\n",
      "aspirate (FNA) of a breast mass.  They describe\n",
      "characteristics of the cell nuclei present in the image.\n",
      "\n",
      "Separating plane described above was obtained using\n",
      "Multisurface Method-Tree (MSM-T) [K. P. Bennett, \"Decision Tree\n",
      "Construction Via Linear Programming.\" Proceedings of the 4th\n",
      "Midwest Artificial Intelligence and Cognitive Science Society,\n",
      "pp. 97-101, 1992], a classification method which uses linear\n",
      "programming to construct a decision tree.  Relevant features\n",
      "were selected using an exhaustive search in the space of 1-4\n",
      "features and 1-3 separating planes.\n",
      "\n",
      "The actual linear program used to obtain the separating plane\n",
      "in the 3-dimensional space is that described in:\n",
      "[K. P. Bennett and O. L. Mangasarian: \"Robust Linear\n",
      "Programming Discrimination of Two Linearly Inseparable Sets\",\n",
      "Optimization Methods and Software 1, 1992, 23-34].\n",
      "\n",
      "This database is also available through the UW CS ftp server:\n",
      "\n",
      "ftp ftp.cs.wisc.edu\n",
      "cd math-prog/cpo-dataset/machine-learn/WDBC/\n",
      "\n",
      ".. topic:: References\n",
      "\n",
      "   - W.N. Street, W.H. Wolberg and O.L. Mangasarian. Nuclear feature extraction \n",
      "     for breast tumor diagnosis. IS&T/SPIE 1993 International Symposium on \n",
      "     Electronic Imaging: Science and Technology, volume 1905, pages 861-870,\n",
      "     San Jose, CA, 1993.\n",
      "   - O.L. Mangasarian, W.N. Street and W.H. Wolberg. Breast cancer diagnosis and \n",
      "     prognosis via linear programming. Operations Research, 43(4), pages 570-577, \n",
      "     July-August 1995.\n",
      "   - W.H. Wolberg, W.N. Street, and O.L. Mangasarian. Machine learning techniques\n",
      "     to diagnose breast cancer from fine-needle aspirates. Cancer Letters 77 (1994) \n",
      "     163-171.\n"
     ]
    }
   ],
   "source": [
    "data = load_breast_cancer()\n",
    "print(data.DESCR)"
   ]
  },
  {
   "cell_type": "code",
   "execution_count": 26,
   "metadata": {},
   "outputs": [
    {
     "data": {
      "text/plain": [
       "StandardScaler(copy=True, with_mean=True, with_std=True)"
      ]
     },
     "execution_count": 26,
     "metadata": {},
     "output_type": "execute_result"
    }
   ],
   "source": [
    "X_train, X_test, y_train, y_test = train_test_split(data.data, data.target)\n",
    "\n",
    "ss = StandardScaler()\n",
    "ss.fit(X_train)"
   ]
  },
  {
   "cell_type": "code",
   "execution_count": 27,
   "metadata": {},
   "outputs": [],
   "source": [
    "X_train_scaled = ss.transform(X_train)\n",
    "X_test_scaled = ss.transform(X_test)"
   ]
  },
  {
   "cell_type": "code",
   "execution_count": 28,
   "metadata": {},
   "outputs": [
    {
     "data": {
      "text/plain": [
       "(426, 30)"
      ]
     },
     "execution_count": 28,
     "metadata": {},
     "output_type": "execute_result"
    }
   ],
   "source": [
    "X_train_scaled.shape"
   ]
  },
  {
   "cell_type": "markdown",
   "metadata": {},
   "source": [
    "## Constructing a Neural Network in Keras"
   ]
  },
  {
   "cell_type": "code",
   "execution_count": 71,
   "metadata": {},
   "outputs": [],
   "source": [
    "# Importing model and layer types\n",
    "\n",
    "from keras.models import Sequential\n",
    "from keras.layers import Dense\n",
    "\n",
    "# Importing our optimizer\n",
    "\n",
    "from keras.optimizers import Adam, SGD"
   ]
  },
  {
   "cell_type": "code",
   "execution_count": 78,
   "metadata": {},
   "outputs": [],
   "source": [
    "model = Sequential()\n",
    "\n",
    "inputs = X_train.shape[1]\n",
    "hiddens = inputs\n",
    "\n",
    "model.add(Dense(hiddens, input_dim=inputs, activation='relu'))\n",
    "model.add(Dense(1, activation='sigmoid') )"
   ]
  },
  {
   "cell_type": "code",
   "execution_count": 79,
   "metadata": {},
   "outputs": [],
   "source": [
    "adam = Adam(learning_rate=0.01)\n",
    "model.compile(optimizer=adam, loss='mean_squared_error', metrics=['accuracy'])"
   ]
  },
  {
   "cell_type": "code",
   "execution_count": 80,
   "metadata": {},
   "outputs": [
    {
     "name": "stdout",
     "output_type": "stream",
     "text": [
      "Train on 614 samples, validate on 154 samples\n",
      "Epoch 1/20\n",
      "614/614 [==============================] - 1s 930us/step - loss: 0.1796 - accuracy: 0.7215 - val_loss: 0.1537 - val_accuracy: 0.7792\n",
      "Epoch 2/20\n",
      "614/614 [==============================] - 0s 651us/step - loss: 0.1592 - accuracy: 0.7622 - val_loss: 0.1589 - val_accuracy: 0.7662\n",
      "Epoch 3/20\n",
      "614/614 [==============================] - 0s 676us/step - loss: 0.1548 - accuracy: 0.7883 - val_loss: 0.1575 - val_accuracy: 0.7597\n",
      "Epoch 4/20\n",
      "614/614 [==============================] - 0s 688us/step - loss: 0.1539 - accuracy: 0.7671 - val_loss: 0.1575 - val_accuracy: 0.7727\n",
      "Epoch 5/20\n",
      "614/614 [==============================] - 0s 678us/step - loss: 0.1511 - accuracy: 0.7899 - val_loss: 0.1631 - val_accuracy: 0.7857\n",
      "Epoch 6/20\n",
      "614/614 [==============================] - 0s 683us/step - loss: 0.1516 - accuracy: 0.7785 - val_loss: 0.1628 - val_accuracy: 0.7597\n",
      "Epoch 7/20\n",
      "614/614 [==============================] - 0s 683us/step - loss: 0.1496 - accuracy: 0.7915 - val_loss: 0.1570 - val_accuracy: 0.7532\n",
      "Epoch 8/20\n",
      "614/614 [==============================] - 0s 674us/step - loss: 0.1484 - accuracy: 0.7850 - val_loss: 0.1543 - val_accuracy: 0.7727\n",
      "Epoch 9/20\n",
      "614/614 [==============================] - 0s 707us/step - loss: 0.1486 - accuracy: 0.7752 - val_loss: 0.1591 - val_accuracy: 0.7532\n",
      "Epoch 10/20\n",
      "614/614 [==============================] - 0s 659us/step - loss: 0.1479 - accuracy: 0.7883 - val_loss: 0.1588 - val_accuracy: 0.7727\n",
      "Epoch 11/20\n",
      "614/614 [==============================] - 0s 682us/step - loss: 0.1465 - accuracy: 0.7915 - val_loss: 0.1603 - val_accuracy: 0.7662\n",
      "Epoch 12/20\n",
      "614/614 [==============================] - 0s 692us/step - loss: 0.1468 - accuracy: 0.7899 - val_loss: 0.1569 - val_accuracy: 0.7922\n",
      "Epoch 13/20\n",
      "614/614 [==============================] - 0s 691us/step - loss: 0.1466 - accuracy: 0.7866 - val_loss: 0.1576 - val_accuracy: 0.7403\n",
      "Epoch 14/20\n",
      "614/614 [==============================] - 0s 689us/step - loss: 0.1469 - accuracy: 0.7850 - val_loss: 0.1629 - val_accuracy: 0.7403\n",
      "Epoch 15/20\n",
      "614/614 [==============================] - 0s 683us/step - loss: 0.1452 - accuracy: 0.7932 - val_loss: 0.1611 - val_accuracy: 0.7597\n",
      "Epoch 16/20\n",
      "614/614 [==============================] - 0s 691us/step - loss: 0.1438 - accuracy: 0.7866 - val_loss: 0.1677 - val_accuracy: 0.7338\n",
      "Epoch 17/20\n",
      "614/614 [==============================] - 0s 658us/step - loss: 0.1438 - accuracy: 0.7932 - val_loss: 0.1608 - val_accuracy: 0.7597\n",
      "Epoch 18/20\n",
      "614/614 [==============================] - 0s 731us/step - loss: 0.1441 - accuracy: 0.7964 - val_loss: 0.1667 - val_accuracy: 0.7727\n",
      "Epoch 19/20\n",
      "614/614 [==============================] - 0s 666us/step - loss: 0.1411 - accuracy: 0.7866 - val_loss: 0.1718 - val_accuracy: 0.7468\n",
      "Epoch 20/20\n",
      "614/614 [==============================] - 0s 662us/step - loss: 0.1418 - accuracy: 0.8029 - val_loss: 0.1618 - val_accuracy: 0.7532\n"
     ]
    }
   ],
   "source": [
    "history = model.fit(X_train, y_train, validation_data=(X_test, y_test),\n",
    "         epochs=20, batch_size=1)"
   ]
  },
  {
   "cell_type": "code",
   "execution_count": 81,
   "metadata": {},
   "outputs": [
    {
     "data": {
      "text/plain": [
       "<matplotlib.legend.Legend at 0x1a387d0ba8>"
      ]
     },
     "execution_count": 81,
     "metadata": {},
     "output_type": "execute_result"
    },
    {
     "data": {
      "image/png": "[encoded data removed]",
      "text/plain": [
       "<Figure size 432x288 with 1 Axes>"
      ]
     },
     "metadata": {
      "needs_background": "light"
     },
     "output_type": "display_data"
    }
   ],
   "source": [
    "train_loss = history.history['loss']\n",
    "test_loss = history.history['val_loss']\n",
    "plt.plot(train_loss, label='Training Loss')\n",
    "plt.plot(test_loss, label='Testing Loss')\n",
    "plt.legend()"
   ]
  },
  {
   "cell_type": "code",
   "execution_count": 82,
   "metadata": {},
   "outputs": [
    {
     "data": {
      "text/plain": [
       "<matplotlib.legend.Legend at 0x1a38848898>"
      ]
     },
     "execution_count": 82,
     "metadata": {},
     "output_type": "execute_result"
    },
    {
     "data": {
      "image/png": "[encoded data removed]",
      "text/plain": [
       "<Figure size 432x288 with 1 Axes>"
      ]
     },
     "metadata": {
      "needs_background": "light"
     },
     "output_type": "display_data"
    }
   ],
   "source": [
    "train_loss = history.history['accuracy']\n",
    "test_loss = history.history['val_accuracy']\n",
    "plt.plot(train_loss, label='Training Acccuracy')\n",
    "plt.plot(test_loss, label='Validation Accuracy')\n",
    "plt.legend()"
   ]
  },
  {
   "cell_type": "code",
   "execution_count": 88,
   "metadata": {},
   "outputs": [
    {
     "data": {
      "text/plain": [
       "array([[0.06108889, 0.        ],\n",
       "       [0.24958941, 1.        ],\n",
       "       [0.32289946, 1.        ],\n",
       "       [0.9298287 , 1.        ],\n",
       "       [0.02549329, 0.        ],\n",
       "       [0.24728927, 0.        ],\n",
       "       [0.00419426, 0.        ],\n",
       "       [0.07218221, 0.        ],\n",
       "       [0.94918203, 1.        ],\n",
       "       [0.97665501, 1.        ],\n",
       "       [0.35788587, 0.        ],\n",
       "       [0.64378315, 1.        ],\n",
       "       [0.51454538, 0.        ],\n",
       "       [0.93337429, 1.        ],\n",
       "       [0.00570565, 0.        ],\n",
       "       [0.09007895, 0.        ],\n",
       "       [0.54344225, 0.        ],\n",
       "       [0.0135093 , 0.        ],\n",
       "       [0.08049104, 0.        ],\n",
       "       [0.23036274, 0.        ]])"
      ]
     },
     "execution_count": 88,
     "metadata": {},
     "output_type": "execute_result"
    }
   ],
   "source": [
    "np.hstack([model.predict(X_test), y_test.reshape(154, 1)])[:20]"
   ]
  },
  {
   "cell_type": "code",
   "execution_count": 84,
   "metadata": {},
   "outputs": [
    {
     "name": "stdout",
     "output_type": "stream",
     "text": [
      "154/154 [==============================] - 0s 29us/step\n"
     ]
    },
    {
     "data": {
      "text/plain": [
       "[0.16180501858909407, 0.7532467246055603]"
      ]
     },
     "execution_count": 84,
     "metadata": {},
     "output_type": "execute_result"
    }
   ],
   "source": [
    "model.evaluate(X_test, y_test)"
   ]
  },
  {
   "cell_type": "markdown",
   "metadata": {},
   "source": [
    "## Constructing a Neural Network in (\"Base\") Tensorflow\n",
    "\n",
    "## You don't need this bit --> this is literally just here to show you that it would be less intuitive to do it in TF and to encourage you to stick to Keras."
   ]
  },
  {
   "cell_type": "code",
   "execution_count": 9,
   "metadata": {},
   "outputs": [],
   "source": [
    "import tensorflow as tf"
   ]
  },
  {
   "cell_type": "code",
   "execution_count": 13,
   "metadata": {},
   "outputs": [],
   "source": [
    "var_1 = tf.Variable(3)\n",
    "var_2 = tf.Variable(2)\n",
    "\n",
    "var_3 = var_1 * var_2\n",
    "var_4 = var_1 + var_3 * var_2"
   ]
  },
  {
   "cell_type": "code",
   "execution_count": 15,
   "metadata": {},
   "outputs": [],
   "source": [
    "init = tf.global_variables_initializer()\n",
    "\n",
    "with tf.Session() as sess:\n",
    "    init.run()\n",
    "    result = sess.run(var_4)"
   ]
  },
  {
   "cell_type": "code",
   "execution_count": 16,
   "metadata": {},
   "outputs": [
    {
     "name": "stdout",
     "output_type": "stream",
     "text": [
      "15\n"
     ]
    }
   ],
   "source": [
    "print(result)"
   ]
  },
  {
   "cell_type": "code",
   "execution_count": 39,
   "metadata": {},
   "outputs": [
    {
     "data": {
      "text/plain": [
       "(426, 30)"
      ]
     },
     "execution_count": 39,
     "metadata": {},
     "output_type": "execute_result"
    }
   ],
   "source": [
    "X_train_scaled.shape"
   ]
  },
  {
   "cell_type": "code",
   "execution_count": 45,
   "metadata": {},
   "outputs": [],
   "source": [
    "tf.reset_default_graph()\n",
    "\n",
    "X = tf.placeholder(dtype=tf.float32, shape=(None, 30))\n",
    "y = tf.placeholder(dtype=tf.float32, shape=(None, 1))\n",
    "\n",
    "hid = tf.layers.dense(X, 30, activation=tf.nn.relu)\n",
    "y_hat = tf.layers.dense(hid, 1, activation=tf.nn.sigmoid)\n",
    "\n",
    "loss = tf.losses.log_loss(y, y_hat)\n",
    "optimizer = tf.train.AdamOptimizer(0.01)\n",
    "training_run = optimizer.minimize(loss)\n",
    "\n",
    "saver = tf.train.Saver()"
   ]
  },
  {
   "cell_type": "code",
   "execution_count": 48,
   "metadata": {},
   "outputs": [
    {
     "data": {
      "text/plain": [
       "0.34965034965034963"
      ]
     },
     "execution_count": 48,
     "metadata": {},
     "output_type": "execute_result"
    }
   ],
   "source": [
    "init = tf.global_variables_initializer()\n",
    "\n",
    "with tf.Session() as sess:\n",
    "    init.run()\n",
    "    \n",
    "    for _ in range(100):\n",
    "        sess.run(training_run, feed_dict={X: X_train_scaled, y: y_train.reshape(-1, 1)})\n",
    "        \n",
    "    pred = sess.run(y_hat, feed_dict={X: X_test})\n",
    "\n",
    "classes = (pred > 0.5).astype(int)\n",
    "\n",
    "metrics.accuracy_score(y_test.reshape(-1, 1), classes)"
   ]
  },
  {
   "cell_type": "code",
   "execution_count": null,
   "metadata": {},
   "outputs": [],
   "source": []
  }
 ],
 "metadata": {
  "kernelspec": {
   "display_name": "Python 3",
   "language": "python",
   "name": "python3"
  },
  "language_info": {
   "codemirror_mode": {
    "name": "ipython",
    "version": 3
   },
   "file_extension": ".py",
   "mimetype": "text/x-python",
   "name": "python",
   "nbconvert_exporter": "python",
   "pygments_lexer": "ipython3",
   "version": "3.6.10"
  }
 },
 "nbformat": 4,
 "nbformat_minor": 4
}
